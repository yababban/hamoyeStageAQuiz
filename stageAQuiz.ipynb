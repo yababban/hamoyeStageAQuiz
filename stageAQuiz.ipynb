{
  "nbformat": 4,
  "nbformat_minor": 0,
  "metadata": {
    "colab": {
      "name": "Untitled3.ipynb",
      "provenance": [],
      "authorship_tag": "ABX9TyPNPvGZT1svY/dyBTbPLJ30",
      "include_colab_link": true
    },
    "kernelspec": {
      "name": "python3",
      "display_name": "Python 3"
    }
  },
  "cells": [
    {
      "cell_type": "markdown",
      "metadata": {
        "id": "view-in-github",
        "colab_type": "text"
      },
      "source": [
        "<a href=\"https://colab.research.google.com/github/yababban/hamoyeStageAQuiz/blob/master/stageAQuiz.ipynb\" target=\"_parent\"><img src=\"https://colab.research.google.com/assets/colab-badge.svg\" alt=\"Open In Colab\"/></a>"
      ]
    },
    {
      "cell_type": "code",
      "metadata": {
        "id": "XuZCRRerMUdQ",
        "colab_type": "code",
        "colab": {
          "base_uri": "https://localhost:8080/",
          "height": 243
        },
        "outputId": "a51cfa75-92e2-40f2-a66e-f72ba0769555"
      },
      "source": [
        "import numpy as np\n",
        "import pandas as pd\n",
        "import matplotlib.pyplot as plt\n",
        "import seaborn as sns\n",
        "import statistics \n",
        "!wget -O data.csv  https://raw.githubusercontent.com/WalePhenomenon/climate_change/master/fuel_ferc1.csv"
      ],
      "execution_count": null,
      "outputs": [
        {
          "output_type": "stream",
          "text": [
            "--2020-07-20 17:12:47--  https://raw.githubusercontent.com/WalePhenomenon/climate_change/master/fuel_ferc1.csv\n",
            "Resolving raw.githubusercontent.com (raw.githubusercontent.com)... 151.101.0.133, 151.101.64.133, 151.101.128.133, ...\n",
            "Connecting to raw.githubusercontent.com (raw.githubusercontent.com)|151.101.0.133|:443... connected.\n",
            "HTTP request sent, awaiting response... 200 OK\n",
            "Length: 2649320 (2.5M) [text/plain]\n",
            "Saving to: ‘data.csv’\n",
            "\n",
            "\rdata.csv              0%[                    ]       0  --.-KB/s               \rdata.csv             71%[=============>      ]   1.80M  8.93MB/s               \rdata.csv            100%[===================>]   2.53M  10.2MB/s    in 0.2s    \n",
            "\n",
            "2020-07-20 17:12:48 (10.2 MB/s) - ‘data.csv’ saved [2649320/2649320]\n",
            "\n"
          ],
          "name": "stdout"
        }
      ]
    },
    {
      "cell_type": "markdown",
      "metadata": {
        "id": "mZu0RorQPz2m",
        "colab_type": "text"
      },
      "source": [
        "Question 2 answer"
      ]
    },
    {
      "cell_type": "code",
      "metadata": {
        "id": "BPH8iO7iP6SD",
        "colab_type": "code",
        "colab": {
          "base_uri": "https://localhost:8080/",
          "height": 73
        },
        "outputId": "aebe008f-264b-4794-a052-c53c26e2a165"
      },
      "source": [
        "np.identity(3)"
      ],
      "execution_count": null,
      "outputs": [
        {
          "output_type": "execute_result",
          "data": {
            "text/plain": [
              "array([[1., 0., 0.],\n",
              "       [0., 1., 0.],\n",
              "       [0., 0., 1.]])"
            ]
          },
          "metadata": {
            "tags": []
          },
          "execution_count": 16
        }
      ]
    },
    {
      "cell_type": "markdown",
      "metadata": {
        "id": "hPbcxXAqQBuc",
        "colab_type": "text"
      },
      "source": [
        "Question 3 answer"
      ]
    },
    {
      "cell_type": "code",
      "metadata": {
        "id": "I0KYWLezNr-p",
        "colab_type": "code",
        "colab": {
          "base_uri": "https://localhost:8080/",
          "height": 36
        },
        "outputId": "1a4ee6c4-593f-41da-ac3c-d7bd9f5dcdfa"
      },
      "source": [
        "data_fuel=pd.read_csv('data.csv')\n",
        "\n",
        "data_fuel.groupby('fuel_cost_per_unit_burned')"
      ],
      "execution_count": null,
      "outputs": [
        {
          "output_type": "execute_result",
          "data": {
            "text/plain": [
              "<pandas.core.groupby.generic.DataFrameGroupBy object at 0x7fa492717f28>"
            ]
          },
          "metadata": {
            "tags": []
          },
          "execution_count": 18
        }
      ]
    },
    {
      "cell_type": "markdown",
      "metadata": {
        "id": "uEyP8OHAQq-5",
        "colab_type": "text"
      },
      "source": [
        "Question 4 answer"
      ]
    },
    {
      "cell_type": "code",
      "metadata": {
        "id": "TD-AGONnQtdV",
        "colab_type": "code",
        "colab": {
          "base_uri": "https://localhost:8080/",
          "height": 36
        },
        "outputId": "b6bb2dc0-8d23-4819-b5a6-804800d39238"
      },
      "source": [
        "#import statistics\n",
        "#print(statistics.stdev(data_fuel['fuel_mmbtu_per_unit']))\n",
        "np.percentile(data_fuel['fuel_mmbtu_per_unit'], 75)"
      ],
      "execution_count": null,
      "outputs": [
        {
          "output_type": "execute_result",
          "data": {
            "text/plain": [
              "17.006"
            ]
          },
          "metadata": {
            "tags": []
          },
          "execution_count": 25
        }
      ]
    },
    {
      "cell_type": "markdown",
      "metadata": {
        "id": "5nj1UDP-TuGM",
        "colab_type": "text"
      },
      "source": [
        "Question 5"
      ]
    },
    {
      "cell_type": "code",
      "metadata": {
        "id": "nzjvuVuZTvml",
        "colab_type": "code",
        "colab": {}
      },
      "source": [
        "import statistics\n",
        "import scipy.stats as stats\n",
        "from scipy.stats import kurtosis\n",
        "from scipy.stats import skew"
      ],
      "execution_count": 1,
      "outputs": []
    }
  ]
}