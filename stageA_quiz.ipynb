{
  "nbformat": 4,
  "nbformat_minor": 0,
  "metadata": {
    "colab": {
      "name": "stageA-quiz.ipynb",
      "provenance": [],
      "authorship_tag": "ABX9TyNmZufx9jOyGwxQFKkaBHtV",
      "include_colab_link": true
    },
    "kernelspec": {
      "name": "python3",
      "display_name": "Python 3"
    }
  },
  "cells": [
    {
      "cell_type": "markdown",
      "metadata": {
        "id": "view-in-github",
        "colab_type": "text"
      },
      "source": [
        "<a href=\"https://colab.research.google.com/github/yababban/hamoyeStageAQuiz/blob/master/stageA_quiz.ipynb\" target=\"_parent\"><img src=\"https://colab.research.google.com/assets/colab-badge.svg\" alt=\"Open In Colab\"/></a>"
      ]
    },
    {
      "cell_type": "markdown",
      "metadata": {
        "id": "l8K5WN6v2ID6",
        "colab_type": "text"
      },
      "source": [
        "**Hamoye Stage A quiz** **responses** **bold text**"
      ]
    },
    {
      "cell_type": "code",
      "metadata": {
        "id": "OEy-wxDQ2Qzx",
        "colab_type": "code",
        "colab": {}
      },
      "source": [
        "!wget -O fuel_data.csv "
      ],
      "execution_count": null,
      "outputs": []
    }
  ]
}