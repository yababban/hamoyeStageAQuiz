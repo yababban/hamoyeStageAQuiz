{
  "nbformat": 4,
  "nbformat_minor": 0,
  "metadata": {
    "colab": {
      "name": "stageA-quiz.ipynb",
      "provenance": [],
      "authorship_tag": "ABX9TyMngv/7dySVNtz06qYO5Q3G",
      "include_colab_link": true
    },
    "kernelspec": {
      "name": "python3",
      "display_name": "Python 3"
    }
  },
  "cells": [
    {
      "cell_type": "markdown",
      "metadata": {
        "id": "view-in-github",
        "colab_type": "text"
      },
      "source": [
        "<a href=\"https://colab.research.google.com/github/yababban/hamoyeStageAQuiz/blob/master/stageA_quiz.ipynb\" target=\"_parent\"><img src=\"https://colab.research.google.com/assets/colab-badge.svg\" alt=\"Open In Colab\"/></a>"
      ]
    },
    {
      "cell_type": "markdown",
      "metadata": {
        "id": "l8K5WN6v2ID6",
        "colab_type": "text"
      },
      "source": [
        "**Hamoye Stage A quiz** **responses** **bold text**"
      ]
    },
    {
      "cell_type": "code",
      "metadata": {
        "id": "OEy-wxDQ2Qzx",
        "colab_type": "code",
        "colab": {
          "base_uri": "https://localhost:8080/",
          "height": 228
        },
        "outputId": "93f7c1fb-3dec-4321-a3d6-d78a556fd817"
      },
      "source": [
        "!wget -O fuel_data.csv https://raw.githubusercontent.com/WalePhenomenon/climate_change/master/fuel_ferc1.csv"
      ],
      "execution_count": 1,
      "outputs": [
        {
          "output_type": "stream",
          "text": [
            "--2020-07-20 15:43:20--  https://raw.githubusercontent.com/WalePhenomenon/climate_change/master/fuel_ferc1.csv\n",
            "Resolving raw.githubusercontent.com (raw.githubusercontent.com)... 151.101.0.133, 151.101.64.133, 151.101.128.133, ...\n",
            "Connecting to raw.githubusercontent.com (raw.githubusercontent.com)|151.101.0.133|:443... connected.\n",
            "HTTP request sent, awaiting response... 200 OK\n",
            "Length: 2649320 (2.5M) [text/plain]\n",
            "Saving to: ‘fuel_data.csv’\n",
            "\n",
            "\rfuel_data.csv         0%[                    ]       0  --.-KB/s               \rfuel_data.csv        69%[============>       ]   1.77M  8.76MB/s               \rfuel_data.csv       100%[===================>]   2.53M  10.1MB/s    in 0.3s    \n",
            "\n",
            "2020-07-20 15:43:20 (10.1 MB/s) - ‘fuel_data.csv’ saved [2649320/2649320]\n",
            "\n"
          ],
          "name": "stdout"
        }
      ]
    }
  ]
}